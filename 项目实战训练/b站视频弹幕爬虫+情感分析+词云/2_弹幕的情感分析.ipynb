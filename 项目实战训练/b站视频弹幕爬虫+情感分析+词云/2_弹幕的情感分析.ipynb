{
 "cells": [
  {
   "cell_type": "code",
   "execution_count": 1,
   "metadata": {},
   "outputs": [],
   "source": [
    "import pandas as pd  # 数据分析库\n",
    "from snownlp import SnowNLP  # 中文情感分析库\n",
    "from wordcloud import WordCloud  # 绘制词云图\n",
    "from pprint import pprint  # 美观打印\n",
    "import jieba.analyse  # jieba分词\n",
    "from PIL import Image  # 读取图片\n",
    "import numpy as np  # 将图片的像素点转换成矩阵数据\n",
    "import matplotlib.pyplot as plt  # 画图"
   ]
  },
  {
   "cell_type": "code",
   "execution_count": 2,
   "metadata": {},
   "outputs": [],
   "source": [
    "# 解决中文显示问题\n",
    "plt.rcParams['font.sans-serif'] = ['SimHei']  # 显示中文标签  # 指定默认字体\n",
    "plt.rcParams['axes.unicode_minus'] = False  # 解决保存图像是负号'-'显示为方块的问题"
   ]
  },
  {
   "cell_type": "code",
   "execution_count": 3,
   "metadata": {},
   "outputs": [],
   "source": [
    "# 情感分析打标\n",
    "def sentiment_analyse(v_cmt_list):\n",
    "    \"\"\"\n",
    "    情感分析打分\n",
    "    :param v_cmt_list: 需要处理的评论列表\n",
    "    :return:\n",
    "    \"\"\"\n",
    "    score_list = []  # 情感评分值\n",
    "    tag_list = []  # 打标分类结果\n",
    "    pos_count = 0  # 计数器-积极\n",
    "    neg_count = 0  # 计数器-消极\n",
    "    mid_count = 0  # 计数器-中性\n",
    "    for comment in v_cmt_list:\n",
    "        tag = ''\n",
    "        sentiments_score = SnowNLP(comment).sentiments\n",
    "        if sentiments_score < 0.5:\n",
    "            tag = '消极'\n",
    "            neg_count += 1\n",
    "        elif sentiments_score > 0.5:\n",
    "            tag = '积极'\n",
    "            pos_count += 1\n",
    "        else:\n",
    "            tag = '中性'\n",
    "            mid_count += 1\n",
    "        score_list.append(sentiments_score)  # 得分值\n",
    "        tag_list.append(tag)  # 判定结果\n",
    "    df['情感得分'] = score_list\n",
    "    df['分析结果'] = tag_list\n",
    "    grp = df['分析结果'].value_counts()\n",
    "    print('正负面评论统计：')\n",
    "    print(grp)\n",
    "    grp.plot.pie(y='分析结果', autopct='%.2f%%')  # 画饼图\n",
    "    plt.title('刘畊宏弹幕_情感分布占比图')\n",
    "    plt.savefig('刘畊宏弹幕_情感分布占比图.png')  # 保存图片\n",
    "    # 把情感分析结果保存到excel文件\n",
    "    df.to_excel('刘畊宏弹幕_情感评分结果.xlsx', index=None)\n",
    "    print('情感分析结果已生成：刘畊宏_情感评分结果.xlsx')"
   ]
  },
  {
   "cell_type": "code",
   "execution_count": 4,
   "metadata": {},
   "outputs": [],
   "source": [
    "def make_wordcloud(v_str, v_stopwords, v_outfile):\n",
    "    \"\"\"\n",
    "    绘制词云图\n",
    "    :param v_str: 输入字符串\n",
    "    :param v_stopwords: 停用词\n",
    "    :param v_outfile: 输出文件\n",
    "    :return: None\n",
    "    \"\"\"\n",
    "    print('开始生成词云图：{}'.format(v_outfile))\n",
    "    try:\n",
    "        stopwords = v_stopwords  # 停用词\n",
    "        backgroud_Image = np.array(Image.open('刘畊宏_背景图.png'))  # 读取背景图片\n",
    "        wc = WordCloud(\n",
    "            background_color=\"white\",  # 背景颜色\n",
    "            width=1500,  # 图宽\n",
    "            height=1200,  # 图高\n",
    "            max_words=1000,  # 最多字数\n",
    "            # 字体文件路径，根据实际情况(Mac)替换\n",
    "            # font_path='/System/Library/Fonts/SimHei.ttf',\n",
    "            font_path=\"C:\\Windows\\Fonts\\simhei.ttf\",  # 字体文件路径，根据实际情况(Windows)替换\n",
    "            stopwords=stopwords,  # 停用词\n",
    "            mask=backgroud_Image,  # 背景图片\n",
    "        )\n",
    "        jieba_text = \" \".join(jieba.lcut(v_str))  # jieba分词\n",
    "        wc.generate_from_text(jieba_text)  # 生成词云图\n",
    "        wc.to_file(v_outfile)  # 保存图片文件\n",
    "        print('词云文件保存成功：{}'.format(v_outfile))\n",
    "    except Exception as e:\n",
    "        print('make_wordcloud except: {}'.format(str(e)))"
   ]
  },
  {
   "cell_type": "code",
   "execution_count": 5,
   "metadata": {},
   "outputs": [],
   "source": [
    "df = pd.read_csv('刘畊宏弹幕.csv')  # 读取excel"
   ]
  },
  {
   "cell_type": "code",
   "execution_count": 6,
   "metadata": {},
   "outputs": [
    {
     "name": "stdout",
     "output_type": "stream",
     "text": [
      "length of v_cmt_list is:10933\n"
     ]
    }
   ],
   "source": [
    "v_cmt_list = df['弹幕内容'].values.tolist()  # 评论内容列表\n",
    "print('length of v_cmt_list is:{}'.format(len(v_cmt_list)))"
   ]
  },
  {
   "cell_type": "code",
   "execution_count": 7,
   "metadata": {},
   "outputs": [],
   "source": [
    "v_cmt_list = [str(i) for i in v_cmt_list]  # 数据清洗-list所有元素转换成字符串"
   ]
  },
  {
   "cell_type": "code",
   "execution_count": 8,
   "metadata": {},
   "outputs": [],
   "source": [
    "v_cmt_str = ' '.join(str(i) for i in v_cmt_list)  # 评论内容转换为字符串"
   ]
  },
  {
   "cell_type": "code",
   "execution_count": 9,
   "metadata": {},
   "outputs": [
    {
     "name": "stdout",
     "output_type": "stream",
     "text": [
      "正负面评论统计：\n",
      "积极    6196\n",
      "消极    3576\n",
      "中性    1161\n",
      "Name: 分析结果, dtype: int64\n",
      "情感分析结果已生成：刘畊宏_情感评分结果.xlsx\n"
     ]
    },
    {
     "data": {
      "image/png": "[encoded data removed]",
      "text/plain": [
       "<Figure size 432x288 with 1 Axes>"
      ]
     },
     "metadata": {},
     "output_type": "display_data"
    }
   ],
   "source": [
    "# 1、情感分析打分\n",
    "sentiment_analyse(v_cmt_list=v_cmt_list)"
   ]
  },
  {
   "cell_type": "code",
   "execution_count": 10,
   "metadata": {},
   "outputs": [
    {
     "name": "stderr",
     "output_type": "stream",
     "text": [
      "Building prefix dict from the default dictionary ...\n",
      "Loading model from cache /var/folders/q_/9pwlv2sd7mv6l5833nzv271w0000gn/T/jieba.cache\n",
      "Loading model cost 0.654 seconds.\n",
      "Prefix dict has been built successfully.\n"
     ]
    },
    {
     "name": "stdout",
     "output_type": "stream",
     "text": [
      "top10关键词及权重：\n",
      "[('弹幕', 0.6353359990663874),\n",
      " ('打卡', 0.5694493248894468),\n",
      " ('哈哈哈', 0.4769378131814947),\n",
      " ('哈哈哈哈', 0.20281786368987736),\n",
      " ('哈哈', 0.1373231156504866),\n",
      " ('暖身', 0.1339878508342562),\n",
      " ('加油', 0.11971909368787938),\n",
      " ('第一天', 0.09167849490289962),\n",
      " ('666', 0.08622980499234312),\n",
      " ('好家伙', 0.08349642417203573)]\n"
     ]
    }
   ],
   "source": [
    "# 2、用jieba统计弹幕中的top10高频词\n",
    "keywords_top10 = jieba.analyse.extract_tags(\n",
    "    v_cmt_str, withWeight=True, topK=10)\n",
    "print('top10关键词及权重：')\n",
    "pprint(keywords_top10)\n",
    "with open('TOP10高频词.txt', 'w') as f:\n",
    "    f.write(str(keywords_top10))"
   ]
  },
  {
   "cell_type": "code",
   "execution_count": 11,
   "metadata": {},
   "outputs": [
    {
     "name": "stdout",
     "output_type": "stream",
     "text": [
      "开始生成词云图：刘畊宏弹幕_词云图.jpg\n",
      "词云文件保存成功：刘畊宏弹幕_词云图.jpg\n"
     ]
    }
   ],
   "source": [
    "# 3、画词云图\n",
    "make_wordcloud(v_str=v_cmt_str,\n",
    "               # 停用词\n",
    "               v_stopwords=['这个', '吗', '的', '啊', '她', '是', '了', '你', '我', '都', '也', '不', '在', '吧', '说', '就是', '这',\n",
    "                            '有', '就', '或', '哇', '哦', '这样', '真的'],\n",
    "               # 词云图文件名\n",
    "               v_outfile='刘畊宏弹幕_词云图.jpg'\n",
    "               )"
   ]
  },
  {
   "cell_type": "code",
   "execution_count": null,
   "metadata": {},
   "outputs": [],
   "source": []
  }
 ],
 "metadata": {
  "kernelspec": {
   "display_name": "Python 3 (ipykernel)",
   "language": "python",
   "name": "python3"
  },
  "language_info": {
   "codemirror_mode": {
    "name": "ipython",
    "version": 3
   },
   "file_extension": ".py",
   "mimetype": "text/x-python",
   "name": "python",
   "nbconvert_exporter": "python",
   "pygments_lexer": "ipython3",
   "version": "3.9.12"
  },
  "toc": {
   "base_numbering": 1,
   "nav_menu": {},
   "number_sections": false,
   "sideBar": true,
   "skip_h1_title": false,
   "title_cell": "Table of Contents",
   "title_sidebar": "Contents",
   "toc_cell": false,
   "toc_position": {},
   "toc_section_display": true,
   "toc_window_display": false
  }
 },
 "nbformat": 4,
 "nbformat_minor": 4
}
